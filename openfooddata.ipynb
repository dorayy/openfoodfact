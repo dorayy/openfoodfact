{
 "cells": [
  {
   "cell_type": "code",
   "execution_count": 1,
   "metadata": {},
   "outputs": [],
   "source": [
    "import pandas as pd\n",
    "import requests\n",
    "import numpy as np\n",
    "from pprint import pprint\n",
    "\n",
    "pd.set_option('display.max_colwidth', None)"
   ]
  },
  {
   "cell_type": "code",
   "execution_count": 6,
   "metadata": {},
   "outputs": [
    {
     "ename": "AttributeError",
     "evalue": "'str' object has no attribute 'notnull'",
     "output_type": "error",
     "traceback": [
      "\u001b[1;31m---------------------------------------------------------------------------\u001b[0m",
      "\u001b[1;31mAttributeError\u001b[0m                            Traceback (most recent call last)",
      "Cell \u001b[1;32mIn [6], line 10\u001b[0m\n\u001b[0;32m      7\u001b[0m dfAll \u001b[38;5;241m=\u001b[39m pd\u001b[38;5;241m.\u001b[39mDataFrame(columns\u001b[38;5;241m=\u001b[39m [\u001b[38;5;124m'\u001b[39m\u001b[38;5;124mid\u001b[39m\u001b[38;5;124m'\u001b[39m, \u001b[38;5;124m'\u001b[39m\u001b[38;5;124mname\u001b[39m\u001b[38;5;124m'\u001b[39m, \u001b[38;5;124m'\u001b[39m\u001b[38;5;124mbrands\u001b[39m\u001b[38;5;124m'\u001b[39m, \u001b[38;5;124m'\u001b[39m\u001b[38;5;124mallergens\u001b[39m\u001b[38;5;124m'\u001b[39m, \u001b[38;5;124m'\u001b[39m\u001b[38;5;124mcategories_tags\u001b[39m\u001b[38;5;124m'\u001b[39m, \u001b[38;5;124m'\u001b[39m\u001b[38;5;124mecoscore_grade\u001b[39m\u001b[38;5;124m'\u001b[39m,\u001b[38;5;124m'\u001b[39m\u001b[38;5;124mecoscore_score\u001b[39m\u001b[38;5;124m'\u001b[39m, \u001b[38;5;124m'\u001b[39m\u001b[38;5;124mexpiration_date\u001b[39m\u001b[38;5;124m'\u001b[39m, \u001b[38;5;124m'\u001b[39m\u001b[38;5;124mimage_url\u001b[39m\u001b[38;5;124m'\u001b[39m, \u001b[38;5;124m'\u001b[39m\u001b[38;5;124mnutriscore_grade\u001b[39m\u001b[38;5;124m'\u001b[39m, \u001b[38;5;124m'\u001b[39m\u001b[38;5;124mnutriscore_score\u001b[39m\u001b[38;5;124m'\u001b[39m,\u001b[38;5;124m'\u001b[39m\u001b[38;5;124mproduct_quantity\u001b[39m\u001b[38;5;124m'\u001b[39m, \u001b[38;5;124m'\u001b[39m\u001b[38;5;124mscans_n\u001b[39m\u001b[38;5;124m'\u001b[39m, \u001b[38;5;124m'\u001b[39m\u001b[38;5;124mstores\u001b[39m\u001b[38;5;124m'\u001b[39m])\n\u001b[0;32m      9\u001b[0m \u001b[38;5;28;01mfor\u001b[39;00m i \u001b[38;5;129;01min\u001b[39;00m idList :\n\u001b[1;32m---> 10\u001b[0m     \u001b[38;5;28;01mif\u001b[39;00m (\u001b[43mi\u001b[49m\u001b[38;5;241;43m.\u001b[39;49m\u001b[43mnotnull\u001b[49m()):\n\u001b[0;32m     11\u001b[0m         i \u001b[38;5;241m=\u001b[39m \u001b[38;5;28mint\u001b[39m(i)\n\u001b[0;32m     12\u001b[0m     \u001b[38;5;28;01mif\u001b[39;00m (i \u001b[38;5;241m>\u001b[39m \u001b[38;5;241m0\u001b[39m):\n",
      "\u001b[1;31mAttributeError\u001b[0m: 'str' object has no attribute 'notnull'"
     ]
    }
   ],
   "source": [
    "products = requests.get(\"https://world.openfoodfacts.org/products.json&page_size=100&page=1\")\n",
    "productsAll = products.json().get('products')\n",
    "\n",
    "dfList = pd.DataFrame(productsAll)\n",
    "idList = dfList['id']\n",
    "\n",
    "dfAll = pd.DataFrame(columns= ['id', 'name', 'brands', 'allergens', 'categories_tags', 'ecoscore_grade','ecoscore_score', 'expiration_date', 'image_url', 'nutriscore_grade', 'nutriscore_score','product_quantity', 'scans_n', 'stores'])\n",
    "\n",
    "for i in idList :\n",
    "    i = int(i)\n",
    "    if (i.notnull()):\n",
    "        if (i > 0):\n",
    "            res  = requests.get('https://world.openfoodfacts.org/api/v0/product/'+str(i)+'.json')\n",
    "            foods = res.json().get('product')\n",
    "\n",
    "            categories = foods.get('categories_tags')\n",
    "\n",
    "            cat = [\",\".join(str(x) for x in categories)]\n",
    "\n",
    "            dfAll = dfAll.append({'id' : foods.get('id'),\n",
    "                'name' : foods.get('product_name'),\n",
    "                'brands' : foods.get('brands'), \n",
    "                'allergens' : foods.get('allergens'), \n",
    "                'categories_tags' : cat, \n",
    "                'ecoscore_grade' : foods.get('ecoscore_grade'), \n",
    "                'ecoscore_score' : foods.get('ecoscore_score'), \n",
    "                'expiration_date' : foods.get('expiration_date'), \n",
    "                'image_url' : foods.get('image_url'), \n",
    "                'nutriscore_grade' : foods.get('nutriscore_grade'), \n",
    "                'nutriscore_score' : foods.get('nutriscore_score'), \n",
    "                'product_quantity' : foods.get('product_quantity'), \n",
    "                'scans_n' : foods.get('scans_n'), \n",
    "                'stores' : foods.get('stores')                  \n",
    "                },ignore_index = True)\n",
    "\n",
    "dfAll\n"
   ]
  },
  {
   "cell_type": "code",
   "execution_count": null,
   "metadata": {},
   "outputs": [],
   "source": []
  }
 ],
 "metadata": {
  "kernelspec": {
   "display_name": "Python 3.9.13 64-bit (microsoft store)",
   "language": "python",
   "name": "python3"
  },
  "language_info": {
   "codemirror_mode": {
    "name": "ipython",
    "version": 3
   },
   "file_extension": ".py",
   "mimetype": "text/x-python",
   "name": "python",
   "nbconvert_exporter": "python",
   "pygments_lexer": "ipython3",
   "version": "3.9.13"
  },
  "orig_nbformat": 4,
  "vscode": {
   "interpreter": {
    "hash": "75f05bf786aae2bfa5a6ef2472ce06c9e13af747eb9389883a748323431ff1c8"
   }
  }
 },
 "nbformat": 4,
 "nbformat_minor": 2
}
