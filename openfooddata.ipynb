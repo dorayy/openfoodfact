{
 "cells": [
  {
   "cell_type": "code",
   "execution_count": 3,
   "metadata": {},
   "outputs": [],
   "source": [
    "import pandas as pd\n",
    "import requests"
   ]
  },
  {
   "cell_type": "code",
   "execution_count": 5,
   "metadata": {},
   "outputs": [
    {
     "ename": "KeyError",
     "evalue": "0",
     "output_type": "error",
     "traceback": [
      "\u001b[1;31m---------------------------------------------------------------------------\u001b[0m",
      "\u001b[1;31mKeyError\u001b[0m                                  Traceback (most recent call last)",
      "\u001b[1;32md:\\IPPSI\\M2\\Open Data\\openfoodfact\\openfooddata.ipynb Cellule 2\u001b[0m in \u001b[0;36m<cell line: 3>\u001b[1;34m()\u001b[0m\n\u001b[0;32m      <a href='vscode-notebook-cell:/d%3A/IPPSI/M2/Open%20Data/openfoodfact/openfooddata.ipynb#W1sZmlsZQ%3D%3D?line=0'>1</a>\u001b[0m res  \u001b[39m=\u001b[39m requests\u001b[39m.\u001b[39mget(\u001b[39m\"\u001b[39m\u001b[39mhttps://world.openfoodfacts.org?json=true\u001b[39m\u001b[39m\"\u001b[39m)\n\u001b[0;32m      <a href='vscode-notebook-cell:/d%3A/IPPSI/M2/Open%20Data/openfoodfact/openfooddata.ipynb#W1sZmlsZQ%3D%3D?line=1'>2</a>\u001b[0m foods \u001b[39m=\u001b[39m res\u001b[39m.\u001b[39mjson()\n\u001b[1;32m----> <a href='vscode-notebook-cell:/d%3A/IPPSI/M2/Open%20Data/openfoodfact/openfooddata.ipynb#W1sZmlsZQ%3D%3D?line=2'>3</a>\u001b[0m df \u001b[39m=\u001b[39m pd\u001b[39m.\u001b[39mread_json(foods[\u001b[39m0\u001b[39;49m])\n",
      "\u001b[1;31mKeyError\u001b[0m: 0"
     ]
    }
   ],
   "source": [
    "res  = requests.get(\"https://world.openfoodfacts.org?json=true\")\n",
    "foods = res.json()\n",
    "\n",
    "print(foods.get('products')[0].keys())"
   ]
  },
  {
   "cell_type": "code",
   "execution_count": null,
   "metadata": {},
   "outputs": [],
   "source": [
    "df.typ"
   ]
  }
 ],
 "metadata": {
  "kernelspec": {
   "display_name": "Python 3.9.12 ('base')",
   "language": "python",
   "name": "python3"
  },
  "language_info": {
   "codemirror_mode": {
    "name": "ipython",
    "version": 3
   },
   "file_extension": ".py",
   "mimetype": "text/x-python",
   "name": "python",
   "nbconvert_exporter": "python",
   "pygments_lexer": "ipython3",
   "version": "3.9.12"
  },
  "orig_nbformat": 4,
  "vscode": {
   "interpreter": {
    "hash": "569ece3135de15643a61c059d59beec37ee0614225fbfabde5826efb8d0fe515"
   }
  }
 },
 "nbformat": 4,
 "nbformat_minor": 2
}
